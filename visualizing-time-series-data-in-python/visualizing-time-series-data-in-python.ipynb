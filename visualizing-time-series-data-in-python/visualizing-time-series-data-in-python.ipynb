{
 "cells": [
  {
   "cell_type": "code",
   "execution_count": null,
   "metadata": {},
   "outputs": [],
   "source": [
    "discoveries['date'] = pd.to_datetime(discoveries['date'])"
   ]
  },
  {
   "cell_type": "code",
   "execution_count": null,
   "metadata": {},
   "outputs": [],
   "source": [
    "# Set the date column as the index of your DataFrame discoveries\n",
    "discoveries = discoveries.set_index('date')\n",
    "\n",
    "# Plot the time series in your DataFrame\n",
    "ax = discoveries.plot(color='blue')\n",
    "\n",
    "# Specify the x-axis label in your plot\n",
    "ax.set_xlabel('Date')\n",
    "\n",
    "# Specify the y-axis label in your plot\n",
    "ax.set_ylabel('Number of great discoveries')\n",
    "\n",
    "# Show plot\n",
    "plt.show()"
   ]
  },
  {
   "cell_type": "code",
   "execution_count": null,
   "metadata": {},
   "outputs": [],
   "source": [
    "# Import the matplotlib.pyplot sub-module\n",
    "import matplotlib.pyplot as plt\n",
    "\n",
    "# Use the fivethirtyeight style\n",
    "plt.style.use('fivethirtyeight')\n",
    "\n",
    "# Plot the time series\n",
    "ax1 = discoveries.plot()\n",
    "ax1.set_title('FiveThirtyEight Style')\n",
    "plt.show()"
   ]
  },
  {
   "cell_type": "code",
   "execution_count": null,
   "metadata": {},
   "outputs": [],
   "source": [
    "# Import the matplotlib.pyplot sub-module\n",
    "import matplotlib.pyplot as plt\n",
    "\n",
    "# Use the ggplot style\n",
    "plt.style.use('ggplot')\n",
    "ax2 = discoveries.plot()\n",
    "\n",
    "# Set the title\n",
    "ax2.set_title('ggplot Style')\n",
    "plt.show()"
   ]
  },
  {
   "cell_type": "code",
   "execution_count": null,
   "metadata": {},
   "outputs": [],
   "source": [
    "# Plot a line chart of the discoveries DataFrame using the specified arguments\n",
    "ax = discoveries.plot(color='blue', figsize=(8, 3), linewidth=2, fontsize=6)\n",
    "\n",
    "# Specify the title in your plot\n",
    "ax.set_title('Number of great inventions and scientific discoveries from 1860 to 1959', fontsize=8)\n",
    "\n",
    "# Show plot\n",
    "plt.show()"
   ]
  },
  {
   "cell_type": "code",
   "execution_count": null,
   "metadata": {},
   "outputs": [],
   "source": [
    "# Select the subset of data between 1945 and 1950\n",
    "discoveries_subset_1 = discoveries['1945-01-01':'1950-01-01']\n",
    "\n",
    "# Plot the time series in your DataFrame as a blue area chart\n",
    "ax = discoveries_subset_1.plot(color='blue', fontsize=15)\n",
    "\n",
    "# Show plot\n",
    "plt.show()"
   ]
  },
  {
   "cell_type": "code",
   "execution_count": null,
   "metadata": {},
   "outputs": [],
   "source": [
    "# Select the subset of data between 1939 and 1958\n",
    "discoveries_subset_2 = discoveries['1939-01-01':'1958-01-01']\n",
    "\n",
    "# Plot the time series in your DataFrame as a blue area chart\n",
    "ax = discoveries_subset_2.plot(color='blue', fontsize=15)\n",
    "\n",
    "# Show plot\n",
    "plt.show()"
   ]
  },
  {
   "cell_type": "code",
   "execution_count": null,
   "metadata": {},
   "outputs": [],
   "source": [
    "# Plot your the discoveries time series\n",
    "ax = discoveries.plot(color='blue', fontsize=6)\n",
    "\n",
    "# Add a red vertical line\n",
    "ax.axvline('1939-01-01', color='red', linestyle='--')\n",
    "\n",
    "# Add a green horizontal line\n",
    "ax.axhline(4, color='green', linestyle='--')\n",
    "\n",
    "plt.show()"
   ]
  },
  {
   "cell_type": "code",
   "execution_count": null,
   "metadata": {},
   "outputs": [],
   "source": [
    "# Plot your the discoveries time series\n",
    "ax = discoveries.plot(color='blue', fontsize=6)\n",
    "\n",
    "# Add a vertical red shaded region\n",
    "ax.axvspan('1900-01-01', '1915-01-01', color='red', alpha=0.3)\n",
    "\n",
    "# Add a horizontal green shaded region\n",
    "ax.axhspan(6, 8, color='green', alpha=0.3)\n",
    "\n",
    "plt.show()"
   ]
  },
  {
   "cell_type": "code",
   "execution_count": null,
   "metadata": {},
   "outputs": [],
   "source": [
    "# Set datestamp column as index\n",
    "co2_levels = co2_levels.set_index('datestamp')\n",
    "\n",
    "# Print out the number of missing values\n",
    "print(co2_levels.isnull().sum())"
   ]
  },
  {
   "cell_type": "code",
   "execution_count": null,
   "metadata": {},
   "outputs": [],
   "source": [
    "# Impute missing values with the next valid observation\n",
    "co2_levels = co2_levels.fillna(method='bfill')\n",
    "\n",
    "# Print out the number of missing values\n",
    "print(co2_levels.isnull().sum())"
   ]
  },
  {
   "cell_type": "code",
   "execution_count": null,
   "metadata": {},
   "outputs": [],
   "source": [
    "# Compute the 52 weeks rolling mean of the co2_levels DataFrame\n",
    "ma = co2_levels.rolling(window=52).mean()\n",
    "\n",
    "# Compute the 52 weeks rolling standard deviation of the co2_levels DataFrame\n",
    "mstd = co2_levels.rolling(window=52).std()\n",
    "\n",
    "# Add the upper bound column to the ma DataFrame\n",
    "ma['upper'] = ma['co2'] + (2 * mstd['co2'])\n",
    "\n",
    "# Add the lower bound column to the ma DataFrame\n",
    "ma['lower'] = ma['co2'] - (2 * mstd['co2'])\n",
    "\n",
    "# Plot the content of the ma DataFrame\n",
    "ax = ma.plot(linewidth=0.8, fontsize=6)\n",
    "\n",
    "# Specify labels, legend, and show the plot\n",
    "ax.set_xlabel('Date', fontsize=10)\n",
    "ax.set_ylabel('CO2 levels in Mauai Hawaii', fontsize=10)\n",
    "ax.set_title('Rolling mean and variance of CO2 levels\\nin Mauai Hawaii from 1958 to 2001', fontsize=10)\n",
    "plt.show()"
   ]
  },
  {
   "cell_type": "code",
   "execution_count": null,
   "metadata": {},
   "outputs": [],
   "source": [
    "# Get month for each dates in the index of co2_levels\n",
    "index_month = co2_levels.index.month\n",
    "\n",
    "# Compute the mean CO2 levels for each month of the year\n",
    "mean_co2_levels_by_month = co2_levels.groupby(index_month).mean()\n",
    "\n",
    "# Plot the mean CO2 levels for each month of the year\n",
    "mean_co2_levels_by_month.plot(fontsize=6)\n",
    "\n",
    "# Specify the fontsize on the legend\n",
    "plt.legend(fontsize=10)\n",
    "\n",
    "# Show plot\n",
    "plt.show()"
   ]
  },
  {
   "cell_type": "code",
   "execution_count": null,
   "metadata": {},
   "outputs": [],
   "source": [
    "# Generate a histogram\n",
    "ax = co2_levels.plot(kind='hist', bins=50, fontsize=6)\n",
    "\n",
    "# Set the labels and display the plot\n",
    "ax.set_xlabel('CO2', fontsize=10)\n",
    "ax.set_ylabel('Histogram of CO2 levels in Maui Hawaii', fontsize=10)\n",
    "plt.legend(fontsize=10)\n",
    "plt.show()"
   ]
  },
  {
   "cell_type": "code",
   "execution_count": null,
   "metadata": {},
   "outputs": [],
   "source": [
    "# Display density plot of CO2 levels values\n",
    "ax = co2_levels.plot(kind='density', linewidth=4, fontsize=6)\n",
    "\n",
    "# Annotate x-axis labels\n",
    "ax.set_xlabel('CO2', fontsize=10)\n",
    "\n",
    "# Annotate y-axis labels\n",
    "ax.set_ylabel('Density plot of CO2 levels in Maui Hawaii', fontsize=10)\n",
    "\n",
    "plt.show()"
   ]
  },
  {
   "cell_type": "code",
   "execution_count": null,
   "metadata": {},
   "outputs": [],
   "source": [
    "# Import required libraries\n",
    "import matplotlib.pyplot as plt\n",
    "plt.style.use('fivethirtyeight')\n",
    "from statsmodels.graphics import tsaplots\n",
    "\n",
    "# Display the autocorrelation plot of your time series\n",
    "fig = tsaplots.plot_acf(co2_levels['co2'], lags=24)\n",
    "\n",
    "# Show plot\n",
    "plt.show()"
   ]
  },
  {
   "cell_type": "code",
   "execution_count": null,
   "metadata": {},
   "outputs": [],
   "source": [
    "# Import required libraries\n",
    "import matplotlib.pyplot as plt\n",
    "plt.style.use('fivethirtyeight')\n",
    "from statsmodels.graphics import tsaplots\n",
    "\n",
    "# Display the partial autocorrelation plot of your time series\n",
    "fig = tsaplots.plot_pacf(co2_levels['co2'], lags=24)\n",
    "\n",
    "# Show plot\n",
    "plt.show()"
   ]
  },
  {
   "cell_type": "code",
   "execution_count": null,
   "metadata": {},
   "outputs": [],
   "source": [
    "# Import statsmodels.api as sm\n",
    "import statsmodels.api as sm\n",
    "\n",
    "# Perform time series decompositon\n",
    "decomposition = sm.tsa.seasonal_decompose(co2_levels)\n",
    "\n",
    "# Print the seasonality component\n",
    "print(decomposition.seasonal)"
   ]
  },
  {
   "cell_type": "code",
   "execution_count": null,
   "metadata": {},
   "outputs": [],
   "source": [
    "# Extract the trend component\n",
    "trend = decomposition.trend\n",
    "\n",
    "# Plot the values of the trend\n",
    "ax = trend.plot(figsize=(12, 6), fontsize=6)\n",
    "\n",
    "# Specify axis labels\n",
    "ax.set_xlabel('Date', fontsize=10)\n",
    "ax.set_title('Seasonal component the CO2 time-series', fontsize=10)\n",
    "plt.show()"
   ]
  },
  {
   "cell_type": "code",
   "execution_count": null,
   "metadata": {},
   "outputs": [],
   "source": [
    "# Plot the time series in your DataFrame\n",
    "ax = airline.plot(color='blue', fontsize=12)\n",
    "\n",
    "# Add a red vertical line at the date 1955-12-01\n",
    "ax.axvline('1955-12-01', color='red', linestyle='--')\n",
    "\n",
    "# Specify the labels in your plot\n",
    "ax.set_xlabel('Date', fontsize=12)\n",
    "ax.set_title('Number of Monthly Airline Passengers', fontsize=12)\n",
    "plt.show()"
   ]
  },
  {
   "cell_type": "code",
   "execution_count": null,
   "metadata": {},
   "outputs": [],
   "source": [
    "# Get month for each dates from the index of airline\n",
    "index_month = airline.index.month\n",
    "\n",
    "# Compute the mean number of passengers for each month of the year\n",
    "mean_airline_by_month = airline.groupby(index_month).mean()\n",
    "\n",
    "# Plot the mean number of passengers for each month of the year\n",
    "mean_airline_by_month.plot()\n",
    "plt.legend(fontsize=20)\n",
    "plt.show()"
   ]
  },
  {
   "cell_type": "code",
   "execution_count": null,
   "metadata": {},
   "outputs": [],
   "source": [
    "# Read in meat DataFrame\n",
    "meat = pd.read_csv(url_meat)\n",
    "\n",
    "# Review the first five lines of the meat DataFrame\n",
    "print(meat.head(5))\n",
    "\n",
    "# Convert the date column to a datestamp type\n",
    "meat['date'] = pd.to_datetime(meat['date'])\n",
    "\n",
    "# Set the date column as the index of your DataFrame meat\n",
    "meat = meat.set_index('date')\n",
    "\n",
    "# Print the summary statistics of the DataFrame\n",
    "print(meat.describe())"
   ]
  },
  {
   "cell_type": "code",
   "execution_count": null,
   "metadata": {},
   "outputs": [],
   "source": [
    "# Plot an area chart\n",
    "ax = meat.plot.area(fontsize=12)\n",
    "\n",
    "# Additional customizations\n",
    "ax.set_xlabel('Date')\n",
    "ax.legend(fontsize=15)\n",
    "\n",
    "# Show plot\n",
    "plt.show()"
   ]
  },
  {
   "cell_type": "code",
   "execution_count": null,
   "metadata": {},
   "outputs": [],
   "source": [
    "# Plot time series dataset using the PuOr color palette\n",
    "ax = meat.plot(colormap='PuOr', fontsize=15)\n",
    "\n",
    "# Additional customizations\n",
    "ax.set_xlabel('Date')\n",
    "ax.legend(fontsize=18)\n",
    "\n",
    "# Show plot\n",
    "plt.show()"
   ]
  },
  {
   "cell_type": "code",
   "execution_count": null,
   "metadata": {},
   "outputs": [],
   "source": [
    "# Plot the meat data\n",
    "ax = meat.plot(fontsize=6, linewidth=1)\n",
    "\n",
    "# Add x-axis labels\n",
    "ax.set_xlabel('Date', fontsize=6)\n",
    "\n",
    "# Add summary table information to the plot\n",
    "ax.table(cellText=meat_mean.values,\n",
    "         colWidths = [0.15]*len(meat_mean.columns),\n",
    "         rowLabels=meat_mean.index,\n",
    "         colLabels=meat_mean.columns,\n",
    "         loc='top')\n",
    "\n",
    "# Specify the fontsize and location of your legend\n",
    "ax.legend(loc='upper center', bbox_to_anchor=(0.5, 0.95), ncol=3, fontsize=6)\n",
    "\n",
    "# Show plot\n",
    "plt.show()"
   ]
  },
  {
   "cell_type": "code",
   "execution_count": null,
   "metadata": {},
   "outputs": [],
   "source": [
    "# Create a facetted graph with 2 rows and 4 columns\n",
    "meat.plot(subplots=True, \n",
    "          layout=(2,4), \n",
    "          sharex=False, \n",
    "          sharey=False, \n",
    "          colormap='viridis', \n",
    "          fontsize=2, \n",
    "          legend=False, \n",
    "          linewidth=0.2)\n",
    "\n",
    "plt.show()"
   ]
  },
  {
   "cell_type": "code",
   "execution_count": null,
   "metadata": {},
   "outputs": [],
   "source": []
  }
 ],
 "metadata": {
  "language_info": {
   "name": "python"
  }
 },
 "nbformat": 4,
 "nbformat_minor": 2
}
